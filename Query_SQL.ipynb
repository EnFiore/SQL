{
  "nbformat": 4,
  "nbformat_minor": 0,
  "metadata": {
    "colab": {
      "provenance": [],
      "authorship_tag": "ABX9TyNw9pl06FrHfXND1uOP6wRn",
      "include_colab_link": true
    },
    "kernelspec": {
      "name": "python3",
      "display_name": "Python 3"
    },
    "language_info": {
      "name": "python"
    }
  },
  "cells": [
    {
      "cell_type": "markdown",
      "metadata": {
        "id": "view-in-github",
        "colab_type": "text"
      },
      "source": [
        "<a href=\"https://colab.research.google.com/github/EnFiore/SQL/blob/main/Query_SQL.ipynb\" target=\"_parent\"><img src=\"https://colab.research.google.com/assets/colab-badge.svg\" alt=\"Open In Colab\"/></a>"
      ]
    },
    {
      "cell_type": "markdown",
      "source": [
        "## WITH RECURIVE\n",
        "Query che itera sui dati e selziona i valori contenutii in una stringa.\n",
        "Dei valori estratti nella query WITH RECURSIVE crea un geojson\n",
        "\n",
        "\n",
        "```SQL\n",
        "CREATE VIEW vw_org_json_comune as\n",
        "WITH RECURSIVE circuiti(codice_a, codice_b, geometry) as (\n",
        "\tselect sv.circ_org,s.circ_org, st_transform(geometry,4326)\n",
        "\tfrom tbl_servizi_org sv, tbl_stradario_rac s\n",
        "\twhere sv.circ_org = s.circ_org\n",
        "\tUNION ALL\n",
        "\tselect sv.circ_org, s.circ_org, st_transform(geometry,4326)\n",
        "\tfrom tbl_servizi_org sv, tbl_stradario_rac s\n",
        "\twhere instr(s.circ_org, sv.circ_org)\n",
        ")\n",
        "SELECT codice_a, AsGeoJSON(st_union(geometry)) as json\n",
        "from circuiti\n",
        "where codice_a like'CDC%'\n",
        "group by codice_a\n",
        "order by codice_a\n",
        "```\n",
        "\n"
      ],
      "metadata": {
        "id": "1q6oILuD07UD"
      }
    }
  ]
}